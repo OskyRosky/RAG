{
 "cells": [
  {
   "cell_type": "markdown",
   "metadata": {},
   "source": [
    "# Implementación de un RAG de prueba con datos de viajes.\n"
   ]
  },
  {
   "cell_type": "markdown",
   "metadata": {},
   "source": [
    "Recordar para poder \n",
    "\n",
    "#### Abrir un modelo llm en la terminal\n",
    "\n",
    "#### Poder abrir el open webui y su interfaz\n",
    "\n",
    "En la terminal para correr se escribe\n",
    "\n",
    "\"ollama run MODELO\"\n",
    "\n",
    "En modelo puede ser llama3, mistral, etc.\n",
    "\n",
    "open-webui serve\n",
    "\n",
    "Luego ir a un navegador y poner  http://localhost:8080"
   ]
  },
  {
   "cell_type": "code",
   "execution_count": null,
   "metadata": {},
   "outputs": [],
   "source": []
  },
  {
   "cell_type": "code",
   "execution_count": null,
   "metadata": {},
   "outputs": [],
   "source": []
  }
 ],
 "metadata": {
  "language_info": {
   "name": "python"
  }
 },
 "nbformat": 4,
 "nbformat_minor": 2
}
